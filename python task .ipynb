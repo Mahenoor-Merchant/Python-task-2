{
 "cells": [
  {
   "cell_type": "markdown",
   "id": "991320d9-0cb5-45b6-a930-b817f43f1600",
   "metadata": {
    "tags": []
   },
   "source": [
    "You are writing code for a company. The requirement of the company is that you create a python function that will check whether the password entered by the user is correct or not. The function should take the password as input and return the string “Valid Password” if the entered password follows thebelow-given password guidelines else it should  return “Invalid Password”.\n",
    "\n",
    "   Note:\n",
    "\n",
    "1. The Password should contain at least two uppercase letters and at least two lowercase letters.\n",
    "2. The Password should contain at least a number and three special characters.\n",
    "3. The length of the password should be 10 characters long. "
   ]
  },
  {
   "cell_type": "code",
   "execution_count": 1,
   "id": "8c587052-0338-43ac-8005-9960b8c56466",
   "metadata": {},
   "outputs": [],
   "source": [
    "def check_password(password):\n",
    "    if len(password) != 10:\n",
    "        return \"Invalid Password\"\n",
    "\n",
    "    num_uppercase = sum(1 for c in password if c.isupper())\n",
    "    num_lowercase = sum(1 for c in password if c.islower())\n",
    "    num_numbers = sum(1 for c in password if c.isdigit())\n",
    "    num_special_chars = sum(1 for c in password if not c.isalnum())\n",
    "\n",
    "    if num_uppercase < 2 or num_lowercase < 2 or num_numbers < 1 or num_special_chars < 3:\n",
    "        return \"Invalid Password\"\n",
    "\n",
    "    else :\n",
    "        return \"Valid Password\"\n"
   ]
  },
  {
   "cell_type": "code",
   "execution_count": 2,
   "id": "3dcbc2f7-a9a2-41ef-8567-4cba11a2af91",
   "metadata": {},
   "outputs": [
    {
     "name": "stdin",
     "output_type": "stream",
     "text": [
      "ENTER YOUR PASSWORD PASSword741$#\n"
     ]
    },
    {
     "name": "stdout",
     "output_type": "stream",
     "text": [
      "Invalid Password\n"
     ]
    }
   ],
   "source": [
    "my_password=input(\"ENTER YOUR PASSWORD\")\n",
    "\n",
    "result = check_password(my_password)\n",
    "print(result)"
   ]
  },
  {
   "cell_type": "markdown",
   "id": "7b2e340e-4da3-4f4e-a109-5d991d2fbe33",
   "metadata": {},
   "source": [
    "Check if the string starts with a particular letter"
   ]
  },
  {
   "cell_type": "markdown",
   "id": "35ee6fa9-2608-4a8e-9bf0-c218ca0a8682",
   "metadata": {},
   "source": [
    "list(filter(lambda x : x[0]==\"a\" , \"ant\"))"
   ]
  },
  {
   "cell_type": "code",
   "execution_count": 2,
   "id": "96c0a74e-d74d-4a6e-ae66-61e6e10749c1",
   "metadata": {},
   "outputs": [
    {
     "data": {
      "text/plain": [
       "[]"
      ]
     },
     "execution_count": 2,
     "metadata": {},
     "output_type": "execute_result"
    }
   ],
   "source": [
    "list(filter(lambda x : x[0]==\"a\" , \"look\"))"
   ]
  },
  {
   "cell_type": "markdown",
   "id": "73f3af21-38cb-43e0-83d2-78f538179bdb",
   "metadata": {},
   "source": [
    "Check if the string is numeric"
   ]
  },
  {
   "cell_type": "code",
   "execution_count": 3,
   "id": "96046582-f482-4e55-b386-c44bdca4cb8b",
   "metadata": {},
   "outputs": [
    {
     "data": {
      "text/plain": [
       "['4', '5']"
      ]
     },
     "execution_count": 3,
     "metadata": {},
     "output_type": "execute_result"
    }
   ],
   "source": [
    "list(filter(lambda x: x.isdigit(),\"MYBOOK45\"))"
   ]
  },
  {
   "cell_type": "markdown",
   "id": "b06b6324-22af-4b93-bef4-581f5026b38f",
   "metadata": {},
   "source": [
    "Sort a list of tuples having fruit names and their quantity.\n",
    "\n"
   ]
  },
  {
   "cell_type": "code",
   "execution_count": 8,
   "id": "77c7415e-bd63-4a58-a72f-e431c20d2cb8",
   "metadata": {},
   "outputs": [],
   "source": [
    "list1= [(\"mango\",99),(\"orange\",80), (\"grapes\", 1000)]"
   ]
  },
  {
   "cell_type": "code",
   "execution_count": 9,
   "id": "d29e9dea-20c6-4c2a-b9fe-31819d3eedf1",
   "metadata": {},
   "outputs": [
    {
     "name": "stdout",
     "output_type": "stream",
     "text": [
      "[('orange', 80), ('mango', 99), ('grapes', 1000)]\n"
     ]
    }
   ],
   "source": [
    "\n",
    "sorted_fruits = sorted(list1, key=lambda x: x[1])\n",
    "\n",
    "print(sorted_fruits)\n"
   ]
  },
  {
   "cell_type": "markdown",
   "id": "c6c84ad1-810f-45ce-bc91-9d3118843d58",
   "metadata": {},
   "source": [
    "Find the squares of numbers from 1 to 10"
   ]
  },
  {
   "cell_type": "code",
   "execution_count": 13,
   "id": "b436118b-7d51-4e8b-87db-00ec93a485bf",
   "metadata": {},
   "outputs": [
    {
     "data": {
      "text/plain": [
       "[1, 4, 9, 16, 25, 36, 49, 64, 81, 100]"
      ]
     },
     "execution_count": 13,
     "metadata": {},
     "output_type": "execute_result"
    }
   ],
   "source": [
    "list(map(lambda x:x**2,list(range(1,11))))"
   ]
  },
  {
   "cell_type": "markdown",
   "id": "6aa5fb46-b6c8-46d2-a7fb-946dd5ffc8dc",
   "metadata": {},
   "source": [
    "Find the cube root of numbers from 1 to 10"
   ]
  },
  {
   "cell_type": "code",
   "execution_count": 18,
   "id": "70f81113-3543-4f7a-b08f-3fa633e39f2d",
   "metadata": {},
   "outputs": [
    {
     "name": "stdout",
     "output_type": "stream",
     "text": [
      "The cube root of 1 is 1.000\n",
      "The cube root of 2 is 1.260\n",
      "The cube root of 3 is 1.442\n",
      "The cube root of 4 is 1.587\n",
      "The cube root of 5 is 1.710\n",
      "The cube root of 6 is 1.817\n",
      "The cube root of 7 is 1.913\n",
      "The cube root of 8 is 2.000\n",
      "The cube root of 9 is 2.080\n",
      "The cube root of 10 is 2.154\n"
     ]
    }
   ],
   "source": [
    "cube_roots = list(map(lambda x: round(x**(1/3), 3), range(1, 11)))\n",
    "\n",
    "for i, cube_root in enumerate(cube_roots):\n",
    "    print(f\"The cube root of {i+1} is {cube_root:.3f}\")\n"
   ]
  },
  {
   "cell_type": "markdown",
   "id": "0d2f8e0e-df6d-4e47-8e2e-553f648da3b6",
   "metadata": {},
   "source": [
    "Check if a given number is even"
   ]
  },
  {
   "cell_type": "code",
   "execution_count": 22,
   "id": "731c1fdf-a45f-4fd0-aa15-621d5c42c266",
   "metadata": {},
   "outputs": [
    {
     "data": {
      "text/plain": [
       "[2, 52, 68]"
      ]
     },
     "execution_count": 22,
     "metadata": {},
     "output_type": "execute_result"
    }
   ],
   "source": [
    "list(filter(lambda x : x%2 ==0,[2,41,52,85,68]))"
   ]
  },
  {
   "cell_type": "markdown",
   "id": "eca8c2a7-4e87-4145-b86e-34e38c67c764",
   "metadata": {},
   "source": [
    "Filter odd numbers from the given list.\n"
   ]
  },
  {
   "cell_type": "code",
   "execution_count": 23,
   "id": "77b16dbe-78e2-4f74-b524-fe179ba3fc73",
   "metadata": {},
   "outputs": [],
   "source": [
    "lst=[1,2,3,4,5,6,7,8,9,10]"
   ]
  },
  {
   "cell_type": "code",
   "execution_count": 24,
   "id": "a04584f7-e82c-4656-8e8e-adde3bfbae72",
   "metadata": {},
   "outputs": [
    {
     "data": {
      "text/plain": [
       "[1, 3, 5, 7, 9]"
      ]
     },
     "execution_count": 24,
     "metadata": {},
     "output_type": "execute_result"
    }
   ],
   "source": [
    "list(filter(lambda x : x%2 !=0,lst))"
   ]
  },
  {
   "cell_type": "markdown",
   "id": "b0ae73e0-c87f-41c5-bed2-86d429442e47",
   "metadata": {},
   "source": [
    "Sort a list of integers into positive and negative integers lists."
   ]
  },
  {
   "cell_type": "code",
   "execution_count": 25,
   "id": "50178c83-0e36-462f-8058-b7f483b57d31",
   "metadata": {},
   "outputs": [],
   "source": [
    "list_int=[1,2,3,4,5,6,-1,-2,-3,-4,-5,0]"
   ]
  },
  {
   "cell_type": "code",
   "execution_count": 42,
   "id": "a3124582-e47c-4dda-be7b-08b5b8f15951",
   "metadata": {},
   "outputs": [
    {
     "name": "stdout",
     "output_type": "stream",
     "text": [
      "positive_int= [1, 2, 3, 4, 5, 6]\n",
      "negative_int= [-1, -2, -3, -4, -5]\n"
     ]
    }
   ],
   "source": [
    "positive_int= list(filter(lambda x: x > 0, list_int))\n",
    "negative_int = list(filter(lambda x: x < 0, list_int))\n",
    "\n",
    "print(\"positive_int=\",positive_int)\n",
    "print(\"negative_int=\",negative_int)"
   ]
  }
 ],
 "metadata": {
  "kernelspec": {
   "display_name": "Python 3 (ipykernel)",
   "language": "python",
   "name": "python3"
  },
  "language_info": {
   "codemirror_mode": {
    "name": "ipython",
    "version": 3
   },
   "file_extension": ".py",
   "mimetype": "text/x-python",
   "name": "python",
   "nbconvert_exporter": "python",
   "pygments_lexer": "ipython3",
   "version": "3.10.8"
  }
 },
 "nbformat": 4,
 "nbformat_minor": 5
}
